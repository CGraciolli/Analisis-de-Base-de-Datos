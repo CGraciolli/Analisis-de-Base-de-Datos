{
 "cells": [
  {
   "cell_type": "code",
   "execution_count": 1,
   "metadata": {},
   "outputs": [],
   "source": [
    "import pandas as pd"
   ]
  },
  {
   "cell_type": "markdown",
   "metadata": {},
   "source": [
    "Cargar datos"
   ]
  },
  {
   "cell_type": "code",
   "execution_count": 2,
   "metadata": {},
   "outputs": [],
   "source": [
    "# Importamos el dataset de los datos de los pokemon\n",
    "df = pd.read_csv(\"dataset_final.csv\")"
   ]
  },
  {
   "cell_type": "code",
   "execution_count": 3,
   "metadata": {},
   "outputs": [
    {
     "data": {
      "text/html": [
       "<div>\n",
       "<style scoped>\n",
       "    .dataframe tbody tr th:only-of-type {\n",
       "        vertical-align: middle;\n",
       "    }\n",
       "\n",
       "    .dataframe tbody tr th {\n",
       "        vertical-align: top;\n",
       "    }\n",
       "\n",
       "    .dataframe thead th {\n",
       "        text-align: right;\n",
       "    }\n",
       "</style>\n",
       "<table border=\"1\" class=\"dataframe\">\n",
       "  <thead>\n",
       "    <tr style=\"text-align: right;\">\n",
       "      <th></th>\n",
       "      <th>#</th>\n",
       "      <th>Name</th>\n",
       "      <th>Type 1</th>\n",
       "      <th>Type 2</th>\n",
       "      <th>Total</th>\n",
       "      <th>HP</th>\n",
       "      <th>Attack</th>\n",
       "      <th>Defense</th>\n",
       "      <th>Sp. Atk</th>\n",
       "      <th>Sp. Def</th>\n",
       "      <th>Speed</th>\n",
       "      <th>Generation</th>\n",
       "      <th>Legendary</th>\n",
       "    </tr>\n",
       "  </thead>\n",
       "  <tbody>\n",
       "    <tr>\n",
       "      <th>0</th>\n",
       "      <td>1</td>\n",
       "      <td>Bulbasaur</td>\n",
       "      <td>Grass</td>\n",
       "      <td>Poison</td>\n",
       "      <td>318</td>\n",
       "      <td>45</td>\n",
       "      <td>49</td>\n",
       "      <td>49</td>\n",
       "      <td>65</td>\n",
       "      <td>65</td>\n",
       "      <td>45</td>\n",
       "      <td>1</td>\n",
       "      <td>False</td>\n",
       "    </tr>\n",
       "    <tr>\n",
       "      <th>1</th>\n",
       "      <td>2</td>\n",
       "      <td>Ivysaur</td>\n",
       "      <td>Grass</td>\n",
       "      <td>Poison</td>\n",
       "      <td>405</td>\n",
       "      <td>60</td>\n",
       "      <td>62</td>\n",
       "      <td>63</td>\n",
       "      <td>80</td>\n",
       "      <td>80</td>\n",
       "      <td>60</td>\n",
       "      <td>1</td>\n",
       "      <td>False</td>\n",
       "    </tr>\n",
       "    <tr>\n",
       "      <th>2</th>\n",
       "      <td>3</td>\n",
       "      <td>Venusaur</td>\n",
       "      <td>Grass</td>\n",
       "      <td>Poison</td>\n",
       "      <td>525</td>\n",
       "      <td>80</td>\n",
       "      <td>82</td>\n",
       "      <td>83</td>\n",
       "      <td>100</td>\n",
       "      <td>100</td>\n",
       "      <td>80</td>\n",
       "      <td>1</td>\n",
       "      <td>False</td>\n",
       "    </tr>\n",
       "    <tr>\n",
       "      <th>3</th>\n",
       "      <td>3</td>\n",
       "      <td>VenusaurMega Venusaur</td>\n",
       "      <td>Grass</td>\n",
       "      <td>Poison</td>\n",
       "      <td>625</td>\n",
       "      <td>80</td>\n",
       "      <td>100</td>\n",
       "      <td>123</td>\n",
       "      <td>122</td>\n",
       "      <td>120</td>\n",
       "      <td>80</td>\n",
       "      <td>1</td>\n",
       "      <td>False</td>\n",
       "    </tr>\n",
       "    <tr>\n",
       "      <th>4</th>\n",
       "      <td>4</td>\n",
       "      <td>Charmander</td>\n",
       "      <td>Fire</td>\n",
       "      <td>NaN</td>\n",
       "      <td>309</td>\n",
       "      <td>39</td>\n",
       "      <td>52</td>\n",
       "      <td>43</td>\n",
       "      <td>60</td>\n",
       "      <td>50</td>\n",
       "      <td>65</td>\n",
       "      <td>1</td>\n",
       "      <td>False</td>\n",
       "    </tr>\n",
       "  </tbody>\n",
       "</table>\n",
       "</div>"
      ],
      "text/plain": [
       "   #                   Name Type 1  Type 2  Total  HP  Attack  Defense  \\\n",
       "0  1              Bulbasaur  Grass  Poison    318  45      49       49   \n",
       "1  2                Ivysaur  Grass  Poison    405  60      62       63   \n",
       "2  3               Venusaur  Grass  Poison    525  80      82       83   \n",
       "3  3  VenusaurMega Venusaur  Grass  Poison    625  80     100      123   \n",
       "4  4             Charmander   Fire     NaN    309  39      52       43   \n",
       "\n",
       "   Sp. Atk  Sp. Def  Speed  Generation  Legendary  \n",
       "0       65       65     45           1      False  \n",
       "1       80       80     60           1      False  \n",
       "2      100      100     80           1      False  \n",
       "3      122      120     80           1      False  \n",
       "4       60       50     65           1      False  "
      ]
     },
     "execution_count": 3,
     "metadata": {},
     "output_type": "execute_result"
    }
   ],
   "source": [
    "df.head(5)\n"
   ]
  },
  {
   "cell_type": "code",
   "execution_count": 32,
   "metadata": {},
   "outputs": [
    {
     "name": "stdout",
     "output_type": "stream",
     "text": [
      "Hay 800 pokémons en el dataset.\n"
     ]
    }
   ],
   "source": [
    "'''\n",
    "1. ¿Cuántos pokémon hay en el dataset?\n",
    "'''\n",
    "\n",
    "print(f\"Hay {len(df)} pokémons en el dataset.\")"
   ]
  },
  {
   "cell_type": "code",
   "execution_count": 33,
   "metadata": {},
   "outputs": [
    {
     "name": "stdout",
     "output_type": "stream",
     "text": [
      "Hay 28 pokémons de tipo Poison en el dataset.\n"
     ]
    }
   ],
   "source": [
    "'''\n",
    "2. ¿Cuántos pokémon hay de tipo Poison? (Type 1)\n",
    "'''\n",
    "\n",
    "poison = df[df[\"Type 1\"] == \"Poison\"]\n",
    "print(f\"Hay {len(poison)} pokémons de tipo Poison en el dataset.\")"
   ]
  },
  {
   "cell_type": "code",
   "execution_count": 34,
   "metadata": {},
   "outputs": [
    {
     "name": "stdout",
     "output_type": "stream",
     "text": [
      "Hay 18 tipos diferentes de pokémons en el dataset.\n"
     ]
    }
   ],
   "source": [
    "'''\n",
    "3. ¿Cuántos tipos diferentes de pokémon hay? (Type 1)\n",
    "'''\n",
    "number_of_types = df[\"Type 1\"].nunique()\n",
    "print(f\"Hay {number_of_types} tipos diferentes de pokémons en el dataset.\")"
   ]
  },
  {
   "cell_type": "code",
   "execution_count": 67,
   "metadata": {},
   "outputs": [
    {
     "name": "stdout",
     "output_type": "stream",
     "text": [
      "        Type  pokémons\n",
      "0      Water       112\n",
      "1     Normal        98\n",
      "2      Grass        70\n",
      "3        Bug        69\n",
      "4    Psychic        57\n",
      "5       Fire        52\n",
      "6   Electric        44\n",
      "7       Rock        44\n",
      "8     Dragon        32\n",
      "9     Ground        32\n",
      "10     Ghost        32\n",
      "11      Dark        31\n",
      "12    Poison        28\n",
      "13     Steel        27\n",
      "14  Fighting        27\n",
      "15       Ice        24\n",
      "16     Fairy        17\n",
      "17    Flying         4\n",
      "\n",
      "El tipo con más pokémons es Water, con 112 pokémons.\n"
     ]
    }
   ],
   "source": [
    "'''\n",
    "2. ¿Cuántos pokémon hay de cada tipo? (Type 1)\n",
    "'''\n",
    "type_counts = df[\"Type 1\"].value_counts().rename_axis('Type').reset_index(name='pokémons')\n",
    "print(type_counts)\n",
    "\n",
    "'''\n",
    "2.1 ¿cual es el tipo de pokémon con más pokémon? (Type 1)\n",
    "'''\n",
    "\n",
    "id_max_types = type_counts[\"pokémons\"].idxmax()\n",
    "max_type_name = type_counts[\"Type\"][id_max_types]\n",
    "max_type = type_counts[\"pokémons\"][id_max_types]\n",
    "print(f\"\\nEl tipo con más pokémons es {max_type_name}, con {max_type} pokémons.\")"
   ]
  },
  {
   "cell_type": "code",
   "execution_count": 64,
   "metadata": {},
   "outputs": [
    {
     "name": "stdout",
     "output_type": "stream",
     "text": [
      "El pokémon más rápido es DeoxysSpeed Forme, con velocidad 180.\n"
     ]
    }
   ],
   "source": [
    "'''\n",
    "3. ¿Cuál es el pokémon más rápido?\n",
    "'''\n",
    "\n",
    "id_max_speed = df[\"Speed\"].idxmax()\n",
    "\n",
    "fastest_pokemon = df[\"Name\"][id_max_speed]\n",
    "max_speed = df[\"Speed\"][id_max_speed]\n",
    "print(f\"El pokémon más rápido es {fastest_pokemon}, con velocidad {max_speed}.\")"
   ]
  },
  {
   "cell_type": "code",
   "execution_count": 68,
   "metadata": {},
   "outputs": [
    {
     "name": "stdout",
     "output_type": "stream",
     "text": [
      "Hay 123 pokémons con defensa superior a 100.\n"
     ]
    }
   ],
   "source": [
    "'''\n",
    "4. ¿Cuántos pokemon tiene una defensa superior a 100?\n",
    "'''\n",
    "def_100 = df[df[\"Defense\"] > 100]\n",
    "\n",
    "\n",
    "'''\n",
    "4.1 ¿Cuántos pokemon tiene una defensa superior a 100?\n",
    "'''\n",
    "\n",
    "print(f\"Hay {len(def_100)} pokémons con defensa superior a 100.\")"
   ]
  },
  {
   "cell_type": "code",
   "execution_count": 80,
   "metadata": {},
   "outputs": [
    {
     "name": "stdout",
     "output_type": "stream",
     "text": [
      "Hay 9 pokémons con defensa y velocidad superior a 100.\n"
     ]
    }
   ],
   "source": [
    "'''\n",
    "5. ¿Cuántos pokemon tiene una defensa superior a 100 y una velocidad superior a 100?\n",
    "'''\n",
    "\n",
    "\n",
    "def_sp = df[(df[\"Defense\"] > 100) & (df[\"Speed\"] > 100)]\n",
    "print(f\"Hay {len(def_sp)} pokémons con defensa y velocidad superior a 100.\")\n",
    "\n"
   ]
  },
  {
   "cell_type": "code",
   "execution_count": 82,
   "metadata": {},
   "outputs": [
    {
     "name": "stdout",
     "output_type": "stream",
     "text": [
      "       #                     Name Type 1    Type 2  Total   HP  Attack  \\\n",
      "656  595                   Joltik    Bug  Electric    319   50      47   \n",
      "657  596               Galvantula    Bug  Electric    472   70      77   \n",
      "231  214                Heracross    Bug  Fighting    500   80     125   \n",
      "232  214  HeracrossMega Heracross    Bug  Fighting    600   80     185   \n",
      "697  636                 Larvesta    Bug      Fire    360   55      85   \n",
      "..   ...                      ...    ...       ...    ...  ...     ...   \n",
      "655  594                Alomomola  Water       NaN    470  165      75   \n",
      "724  656                  Froakie  Water       NaN    314   41      56   \n",
      "725  657                Frogadier  Water       NaN    405   54      63   \n",
      "762  692                Clauncher  Water       NaN    330   50      53   \n",
      "763  693                Clawitzer  Water       NaN    500   71      73   \n",
      "\n",
      "     Defense  Sp. Atk  Sp. Def  Speed  Generation  Legendary  \n",
      "656       50       57       50     65           5      False  \n",
      "657       60       97       60    108           5      False  \n",
      "231       75       40       95     85           2      False  \n",
      "232      115       40      105     75           2      False  \n",
      "697       55       50       55     60           5      False  \n",
      "..       ...      ...      ...    ...         ...        ...  \n",
      "655       80       40       45     65           5      False  \n",
      "724       40       62       44     71           6      False  \n",
      "725       52       83       56     97           6      False  \n",
      "762       62       58       63     44           6      False  \n",
      "763       88      120       89     59           6      False  \n",
      "\n",
      "[800 rows x 13 columns]\n"
     ]
    }
   ],
   "source": [
    "'''\n",
    "6. Ordena el dataset por el tipo 1 y por el tipo 2\n",
    "'''\n",
    "\n",
    "ordered = df.sort_values([\"Type 1\", \"Type 2\"])\n",
    "print(ordered)"
   ]
  },
  {
   "cell_type": "code",
   "execution_count": 83,
   "metadata": {},
   "outputs": [
    {
     "name": "stdout",
     "output_type": "stream",
     "text": [
      "                          Name Type 1\n",
      "4                   Charmander   Fire\n",
      "5                   Charmeleon   Fire\n",
      "6                    Charizard   Fire\n",
      "7    CharizardMega Charizard X   Fire\n",
      "8    CharizardMega Charizard Y   Fire\n",
      "..                         ...    ...\n",
      "735                     Litleo   Fire\n",
      "736                     Pyroar   Fire\n",
      "762                  Clauncher  Water\n",
      "763                  Clawitzer  Water\n",
      "799                  Volcanion   Fire\n",
      "\n",
      "[164 rows x 2 columns]\n"
     ]
    }
   ],
   "source": [
    "'''\n",
    "7. Crea un nuevo dataset con los pokémon de tipo Water y Fire como primer tipo\n",
    "\n",
    "'''\n",
    "\n",
    "fire_water = df[(df[\"Type 1\"] == \"Fire\") | (df[\"Type 1\"] == \"Water\")]\n",
    "\n",
    "print(fire_water[[\"Name\", \"Type 1\"]])\n"
   ]
  },
  {
   "cell_type": "code",
   "execution_count": 84,
   "metadata": {},
   "outputs": [
    {
     "name": "stdout",
     "output_type": "stream",
     "text": [
      "       #                 Name    Type 1    Type 2  Total   HP  Attack  \\\n",
      "156  144             Articuno       Ice    Flying    580   90      85   \n",
      "157  145               Zapdos  Electric    Flying    580   90      90   \n",
      "158  146              Moltres      Fire    Flying    580   90     100   \n",
      "162  150               Mewtwo   Psychic       NaN    680  106     110   \n",
      "163  150  MewtwoMega Mewtwo X   Psychic  Fighting    780  106     190   \n",
      "..   ...                  ...       ...       ...    ...  ...     ...   \n",
      "795  719              Diancie      Rock     Fairy    600   50     100   \n",
      "796  719  DiancieMega Diancie      Rock     Fairy    700   50     160   \n",
      "797  720  HoopaHoopa Confined   Psychic     Ghost    600   80     110   \n",
      "798  720   HoopaHoopa Unbound   Psychic      Dark    680   80     160   \n",
      "799  721            Volcanion      Fire     Water    600   80     110   \n",
      "\n",
      "     Defense  Sp. Atk  Sp. Def  Speed  Generation  Legendary  \n",
      "156      100       95      125     85           1       True  \n",
      "157       85      125       90    100           1       True  \n",
      "158       90      125       85     90           1       True  \n",
      "162       90      154       90    130           1       True  \n",
      "163      100      154      100    130           1       True  \n",
      "..       ...      ...      ...    ...         ...        ...  \n",
      "795      150      100      150     50           6       True  \n",
      "796      110      160      110    110           6       True  \n",
      "797       60      150      130     70           6       True  \n",
      "798       60      170      130     80           6       True  \n",
      "799      120      130       90     70           6       True  \n",
      "\n",
      "[65 rows x 13 columns]\n"
     ]
    }
   ],
   "source": [
    "'''\n",
    "8. Crea un nuevo dataset con los pokemon Legendary\n",
    "'''\n",
    "\n",
    "legendary = df[df[\"Legendary\"] == True]\n",
    "print(legendary)"
   ]
  },
  {
   "cell_type": "code",
   "execution_count": 86,
   "metadata": {},
   "outputs": [
    {
     "name": "stdout",
     "output_type": "stream",
     "text": [
      "         Non Legendary\n",
      "HP           67.182313\n",
      "Attack       75.669388\n",
      "Defense      71.559184\n",
      "Sp. Atk      68.454422\n",
      "Sp. Def      68.892517\n",
      "Speed        65.455782\n",
      "\n",
      "          Legendary\n",
      "HP        92.738462\n",
      "Attack   116.676923\n",
      "Defense   99.661538\n",
      "Sp. Atk  122.184615\n",
      "Sp. Def  105.938462\n",
      "Speed    100.184615\n"
     ]
    }
   ],
   "source": [
    "'''\n",
    "9. Calcula el promedio de stats de los pokemon Legendary (HP, Attack, Defense, Sp. Atk, Sp. Def, Speed) y los no Legendary\n",
    "'''\n",
    "non_legendary = df[df[\"Legendary\"] == False]\n",
    "legendary = df[df[\"Legendary\"] == True]\n",
    "\n",
    "nl_means = non_legendary[[\"HP\", \"Attack\", \"Defense\", \"Sp. Atk\", \"Sp. Def\", \"Speed\"]].mean()\n",
    "\n",
    "lg_means = legendary[[\"HP\", \"Attack\", \"Defense\", \"Sp. Atk\", \"Sp. Def\", \"Speed\"]].mean()\n",
    "\n",
    "nl_means = nl_means.to_frame(\"Non Legendary\")\n",
    "lg_means = lg_means.to_frame(\"Legendary\")\n",
    "print(nl_means)\n",
    "print()\n",
    "print(lg_means)\n",
    "\n"
   ]
  },
  {
   "cell_type": "code",
   "execution_count": 31,
   "metadata": {},
   "outputs": [
    {
     "name": "stdout",
     "output_type": "stream",
     "text": [
      "                      HP      Attack    Defense     Sp. Atk     Sp. Def  \\\n",
      "Legendary      92.738462  116.676923  99.661538  122.184615  105.938462   \n",
      "Non Legendary  67.182313   75.669388  71.559184   68.454422   68.892517   \n",
      "\n",
      "                    Speed  \n",
      "Legendary      100.184615  \n",
      "Non Legendary   65.455782  \n"
     ]
    }
   ],
   "source": [
    "'''\n",
    "10. Crea un nuevo dataframe con el resultado del anterior ejercicio comparando ambos promedios\n",
    "\n",
    "ejemplo:\n",
    "                HP  Attack  Defense  Sp. Atk  Sp. Def  Speed\n",
    "Legendary       99      90       89       91       94     90\n",
    "No Legendary    80      95       75       12       43     87\n",
    "\n",
    "'''\n",
    "\n",
    "\n",
    "means = pd.merge(lg_means, nl_means, right_index = True, left_index = True)\n",
    "means = means.T\n",
    "print(means)\n",
    "\n"
   ]
  },
  {
   "cell_type": "code",
   "execution_count": 87,
   "metadata": {},
   "outputs": [
    {
     "name": "stdout",
     "output_type": "stream",
     "text": [
      "       #                   Name   Type 1  Type 2  Total  HP  Attack  Defense  \\\n",
      "0      1              Bulbasaur    Grass  Poison    318  45      49       49   \n",
      "1      2                Ivysaur    Grass  Poison    405  60      62       63   \n",
      "2      3               Venusaur    Grass  Poison    525  80      82       83   \n",
      "3      3  VenusaurMega Venusaur    Grass  Poison    625  80     100      123   \n",
      "4      4             Charmander     Fire     NaN    309  39      52       43   \n",
      "..   ...                    ...      ...     ...    ...  ..     ...      ...   \n",
      "795  719                Diancie     Rock   Fairy    600  50     100      150   \n",
      "796  719    DiancieMega Diancie     Rock   Fairy    700  50     160      110   \n",
      "797  720    HoopaHoopa Confined  Psychic   Ghost    600  80     110       60   \n",
      "798  720     HoopaHoopa Unbound  Psychic    Dark    680  80     160       60   \n",
      "799  721              Volcanion     Fire   Water    600  80     110      120   \n",
      "\n",
      "     Sp. Atk  Sp. Def  Speed  Generation  Legendary  Doble tipo  \n",
      "0         65       65     45           1      False        True  \n",
      "1         80       80     60           1      False        True  \n",
      "2        100      100     80           1      False        True  \n",
      "3        122      120     80           1      False        True  \n",
      "4         60       50     65           1      False       False  \n",
      "..       ...      ...    ...         ...        ...         ...  \n",
      "795      100      150     50           6       True        True  \n",
      "796      160      110    110           6       True        True  \n",
      "797      150      130     70           6       True        True  \n",
      "798      170      130     80           6       True        True  \n",
      "799      130       90     70           6       True        True  \n",
      "\n",
      "[800 rows x 14 columns]\n"
     ]
    }
   ],
   "source": [
    "'''\n",
    "11. Añade una nueva colunma ['Doble tipo'] al dataframe inicial que inndique si el pokemo tiene dos tipos o no\n",
    "'''\n",
    "\n",
    "##not null\n",
    "df[\"Doble tipo\"] = df[\"Type 2\"].notnull()\n",
    "\n",
    "print(df)"
   ]
  },
  {
   "cell_type": "code",
   "execution_count": 88,
   "metadata": {},
   "outputs": [
    {
     "data": {
      "text/html": [
       "<div>\n",
       "<style scoped>\n",
       "    .dataframe tbody tr th:only-of-type {\n",
       "        vertical-align: middle;\n",
       "    }\n",
       "\n",
       "    .dataframe tbody tr th {\n",
       "        vertical-align: top;\n",
       "    }\n",
       "\n",
       "    .dataframe thead th {\n",
       "        text-align: right;\n",
       "    }\n",
       "</style>\n",
       "<table border=\"1\" class=\"dataframe\">\n",
       "  <thead>\n",
       "    <tr style=\"text-align: right;\">\n",
       "      <th></th>\n",
       "      <th>Name</th>\n",
       "      <th>Type 1</th>\n",
       "      <th>Type 2</th>\n",
       "    </tr>\n",
       "  </thead>\n",
       "  <tbody>\n",
       "    <tr>\n",
       "      <th>657</th>\n",
       "      <td>Galvantula</td>\n",
       "      <td>Bug</td>\n",
       "      <td>Electric</td>\n",
       "    </tr>\n",
       "    <tr>\n",
       "      <th>656</th>\n",
       "      <td>Joltik</td>\n",
       "      <td>Bug</td>\n",
       "      <td>Electric</td>\n",
       "    </tr>\n",
       "    <tr>\n",
       "      <th>231</th>\n",
       "      <td>Heracross</td>\n",
       "      <td>Bug</td>\n",
       "      <td>Fighting</td>\n",
       "    </tr>\n",
       "    <tr>\n",
       "      <th>232</th>\n",
       "      <td>HeracrossMega Heracross</td>\n",
       "      <td>Bug</td>\n",
       "      <td>Fighting</td>\n",
       "    </tr>\n",
       "    <tr>\n",
       "      <th>697</th>\n",
       "      <td>Larvesta</td>\n",
       "      <td>Bug</td>\n",
       "      <td>Fire</td>\n",
       "    </tr>\n",
       "    <tr>\n",
       "      <th>...</th>\n",
       "      <td>...</td>\n",
       "      <td>...</td>\n",
       "      <td>...</td>\n",
       "    </tr>\n",
       "    <tr>\n",
       "      <th>626</th>\n",
       "      <td>Carracosta</td>\n",
       "      <td>Water</td>\n",
       "      <td>Rock</td>\n",
       "    </tr>\n",
       "    <tr>\n",
       "      <th>240</th>\n",
       "      <td>Corsola</td>\n",
       "      <td>Water</td>\n",
       "      <td>Rock</td>\n",
       "    </tr>\n",
       "    <tr>\n",
       "      <th>404</th>\n",
       "      <td>Relicanth</td>\n",
       "      <td>Water</td>\n",
       "      <td>Rock</td>\n",
       "    </tr>\n",
       "    <tr>\n",
       "      <th>625</th>\n",
       "      <td>Tirtouga</td>\n",
       "      <td>Water</td>\n",
       "      <td>Rock</td>\n",
       "    </tr>\n",
       "    <tr>\n",
       "      <th>440</th>\n",
       "      <td>Empoleon</td>\n",
       "      <td>Water</td>\n",
       "      <td>Steel</td>\n",
       "    </tr>\n",
       "  </tbody>\n",
       "</table>\n",
       "<p>414 rows × 3 columns</p>\n",
       "</div>"
      ],
      "text/plain": [
       "                        Name Type 1    Type 2\n",
       "657               Galvantula    Bug  Electric\n",
       "656                   Joltik    Bug  Electric\n",
       "231                Heracross    Bug  Fighting\n",
       "232  HeracrossMega Heracross    Bug  Fighting\n",
       "697                 Larvesta    Bug      Fire\n",
       "..                       ...    ...       ...\n",
       "626               Carracosta  Water      Rock\n",
       "240                  Corsola  Water      Rock\n",
       "404                Relicanth  Water      Rock\n",
       "625                 Tirtouga  Water      Rock\n",
       "440                 Empoleon  Water     Steel\n",
       "\n",
       "[414 rows x 3 columns]"
      ]
     },
     "execution_count": 88,
     "metadata": {},
     "output_type": "execute_result"
    }
   ],
   "source": [
    "'''\n",
    "12. Muestra las columas Name, Type 1, Type 2 de los pokémon que tienen dos tipos y ordenalos por Type 1 , Type 2 y Name\n",
    "'''\n",
    "\n",
    "two_types = df[df[\"Doble tipo\"] == True]\n",
    "two_types[[\"Name\", \"Type 1\", \"Type 2\"]].sort_values([\"Type 1\", \"Type 2\", \"Name\"])"
   ]
  },
  {
   "cell_type": "code",
   "execution_count": 100,
   "metadata": {},
   "outputs": [
    {
     "name": "stdout",
     "output_type": "stream",
     "text": [
      "El precio de la compra es 155.\n",
      "El precio con 10% de descuento es 139.5.\n",
      "El precio con IVA es 187.54999999999998.\n",
      "Los artíclos cuyo precio es superior a 20€ son pantalón, pantalón, gafas, corbata.\n"
     ]
    }
   ],
   "source": [
    "from functools import reduce\n",
    "\n",
    "'''\n",
    "13. Dada una lista de Artículos con sus precio. Define las siguientes funciones:\n",
    "Puedes definir más funciones si lo consideras necesario.\n",
    "'''\n",
    "articulos = {\n",
    "    'Camisa': 20,\n",
    "    'Pantalón': 30,\n",
    "    'Calcetines': 5,\n",
    "    'Zapatos': 50,\n",
    "    'Gorra': 10,\n",
    "    'Bufanda': 15,\n",
    "    'Gafas': 25,\n",
    "    'Reloj': 35,\n",
    "    'Corbata': 40,\n",
    "}\n",
    "\n",
    "compra = ['Camisa', 'Pantalón', 'Pantalón', 'Gorra', 'Gafas', 'Corbata']\n",
    "\n",
    "\n",
    "# A. Una función que calcule el precio total de la compra\n",
    "\n",
    "def precio(compra):\n",
    "    return reduce(lambda x, y: x+y, list(map(lambda x: articulos[x], compra)))\n",
    "\n",
    "print(f\"El precio de la compra es {precio(compra)}.\")\n",
    "# B. Una función que calcule el precio total de la compra con un descuento del 10%\n",
    "def precio_descuento10(compra):\n",
    "    precio_sin_descuento = precio(compra)\n",
    "    return 0.9*precio_sin_descuento\n",
    "\n",
    "print(f\"El precio con 10% de descuento es {precio_descuento10(compra)}.\")\n",
    "\n",
    "# C. Una función que calcule el precio total de la compra con un descuento del 10% si la compra supera los 100€\n",
    "\n",
    "def precio_pos_des(compra):\n",
    "    precio_sin_descuento = precio(compra)\n",
    "    if precio_sin_descuento > 100:\n",
    "        precio_final = 0.9*precio_sin_descuento\n",
    "    else:\n",
    "        precio_final = precio_sin_descuento\n",
    "    return precio_final\n",
    "\n",
    "# D. Una función que calcule el precio total aplicando el IVA (21%)\n",
    "def precio_iva(compra):\n",
    "    precio_sin_iva = precio(compra)\n",
    "    precio_con_iva = 1.21*precio_sin_iva\n",
    "    return precio_con_iva\n",
    "\n",
    "print(f\"El precio con IVA es {precio_iva(compra)}.\")\n",
    "\n",
    "# E.lista los artículos cuyo precio es superior a 20€\n",
    "def sup_20(compras):\n",
    "    return list(filter(lambda x: articulos[x] > 20, compras))\n",
    "\n",
    "print(f\"Los artíclos cuyo precio es superior a 20€ son {', '.join(sup_20(compra)).lower()}.\")"
   ]
  },
  {
   "cell_type": "code",
   "execution_count": 95,
   "metadata": {},
   "outputs": [
    {
     "name": "stdout",
     "output_type": "stream",
     "text": [
      "Curso 1:\n",
      "[('Juan', 'Pérez', '1', 7.0), ('Luis', 'González', '1', 7.0), ('Pedro', 'Rodríguez', '1', 7.0), ('Marta', 'López', '1', 7.0), ('Javier', 'Sánchez', '1', 7.0), ('Sergio', 'Jiménez', '1', 7.0), ('Pablo', 'Álvarez', '1', 7.0)]\n",
      "\n",
      "Curso 2:\n",
      "[('Ana', 'García', '2', 7.0), ('María', 'Martínez', '2', 7.0), ('Lucía', 'Hernández', '2', 7.0), ('Sara', 'Díaz', '2', 7.0), ('Miguel', 'Fernández', '2', 7.0), ('Sandra', 'Ruiz', '2', 7.0), ('María', 'Gómez', '2', 7.0)]\n"
     ]
    }
   ],
   "source": [
    "'''\n",
    "14. Dada una lista de tuplas con el nombre de un alumno, apellidos, curso y sus notas. \n",
    "\n",
    " Define una funcion que reciba el curso y saque una lista en la que aparezca e nombre y apellidos y el promedio de sus notas.\n",
    " Puedes definir más funciones si lo consideras necesario.\n",
    "'''\n",
    "\n",
    "alumnos = [('Juan', 'Pérez', '1', [5, 6, 7, 8, 9]),\n",
    "            ('Ana', 'García', '2', [5, 6, 7, 8, 9]),\n",
    "            ('Luis', 'González', '1', [5, 6, 7, 8, 9]),\n",
    "            ('María', 'Martínez', '2', [5, 6, 7, 8, 9]),\n",
    "            ('Pedro', 'Rodríguez', '1', [5, 6, 7, 8, 9]),\n",
    "            ('Lucía', 'Hernández', '2', [5, 6, 7, 8, 9]),\n",
    "            ('Marta', 'López', '1', [5, 6, 7, 8, 9]),\n",
    "            ('Sara', 'Díaz', '2', [5, 6, 7, 8, 9]),\n",
    "            ('Javier', 'Sánchez', '1', [5, 6, 7, 8, 9]),\n",
    "            ('Miguel', 'Fernández', '2', [5, 6, 7, 8, 9]),\n",
    "            ('Sergio', 'Jiménez', '1', [5, 6, 7, 8, 9]),\n",
    "            ('Sandra', 'Ruiz', '2', [5, 6, 7, 8, 9]),\n",
    "            ('Pablo', 'Álvarez', '1', [5, 6, 7, 8, 9]),\n",
    "            ('María', 'Gómez', '2', [5, 6, 7, 8, 9]),\n",
    "]\n",
    "\n",
    "def avg(array):\n",
    "    return sum(array)/len(array)\n",
    "\n",
    "def alumno_avg(alumno):\n",
    "    new_tuple = (alumno[0], alumno[1], alumno[2], avg(alumno[3]))\n",
    "    return new_tuple\n",
    "    \n",
    "def get_students(curso, lista_alumnos):\n",
    "    return list(map(lambda x: alumno_avg(x), (filter(lambda x: x[2] == curso, lista_alumnos))))\n",
    "\n",
    "print(\"Curso 1:\")\n",
    "print(get_students(\"1\", alumnos))\n",
    "print(\"\\nCurso 2:\")\n",
    "print(get_students(\"2\", alumnos))"
   ]
  }
 ],
 "metadata": {
  "kernelspec": {
   "display_name": "Python 3.7.6 ('base')",
   "language": "python",
   "name": "python3"
  },
  "language_info": {
   "codemirror_mode": {
    "name": "ipython",
    "version": 3
   },
   "file_extension": ".py",
   "mimetype": "text/x-python",
   "name": "python",
   "nbconvert_exporter": "python",
   "pygments_lexer": "ipython3",
   "version": "3.7.6"
  },
  "vscode": {
   "interpreter": {
    "hash": "ad2bdc8ecc057115af97d19610ffacc2b4e99fae6737bb82f5d7fb13d2f2c186"
   }
  }
 },
 "nbformat": 4,
 "nbformat_minor": 2
}
